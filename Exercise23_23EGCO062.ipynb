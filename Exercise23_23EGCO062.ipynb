{
  "nbformat": 4,
  "nbformat_minor": 0,
  "metadata": {
    "colab": {
      "provenance": [],
      "authorship_tag": "ABX9TyNRJ1UGC6rKdtTPjovIjt8I",
      "include_colab_link": true
    },
    "kernelspec": {
      "name": "python3",
      "display_name": "Python 3"
    },
    "language_info": {
      "name": "python"
    }
  },
  "cells": [
    {
      "cell_type": "markdown",
      "metadata": {
        "id": "view-in-github",
        "colab_type": "text"
      },
      "source": [
        "<a href=\"https://colab.research.google.com/github/imeekong/Tryouts/blob/revert-1-NathansDac-patch-1/Exercise23_23EGCO062.ipynb\" target=\"_parent\"><img src=\"https://colab.research.google.com/assets/colab-badge.svg\" alt=\"Open In Colab\"/></a>"
      ]
    },
    {
      "cell_type": "markdown",
      "source": [
        "NAME: Ime Ime Ekong\n",
        "\n",
        "REGISTRATION NUMBER: 23/EG/CO/062"
      ],
      "metadata": {
        "id": "pU1bSvbBE4kl"
      }
    },
    {
      "cell_type": "code",
      "source": [
        "import pandas as pd\n",
        "import numpy as np\n",
        "df = pd.read_csv('/content/student_data.csv')"
      ],
      "metadata": {
        "id": "1dsfecHVwWlw"
      },
      "execution_count": null,
      "outputs": []
    },
    {
      "cell_type": "markdown",
      "source": [
        "DATA INSPECTION"
      ],
      "metadata": {
        "id": "UHN46MVGcbHv"
      }
    },
    {
      "cell_type": "markdown",
      "source": [
        "1. How many students are in the data set, as determined?"
      ],
      "metadata": {
        "id": "Gnl4bZsfcyJs"
      }
    },
    {
      "cell_type": "code",
      "source": [
        "print(f\"The number of students in the dataset is: {df.shape[0]}\")"
      ],
      "metadata": {
        "colab": {
          "base_uri": "https://localhost:8080/"
        },
        "id": "HcIDg-GDwIlB",
        "outputId": "f8356808-337e-4f31-9f83-0d53015ce52b"
      },
      "execution_count": null,
      "outputs": [
        {
          "output_type": "stream",
          "name": "stdout",
          "text": [
            "The number of students in the dataset is: 395\n"
          ]
        }
      ]
    },
    {
      "cell_type": "markdown",
      "source": [
        "2. How many female students are in the dataset?"
      ],
      "metadata": {
        "id": "V9Ca7XZPc5bV"
      }
    },
    {
      "cell_type": "code",
      "source": [
        "female_students = df[df['sex'] == 'F']\n",
        "print(f\"The number of female students in the dataset is: {female_students.shape[0]}\")"
      ],
      "metadata": {
        "colab": {
          "base_uri": "https://localhost:8080/"
        },
        "id": "Nt0Pf125xAqb",
        "outputId": "9d294c27-454a-47b9-dbbe-b583010fbd31"
      },
      "execution_count": null,
      "outputs": [
        {
          "output_type": "stream",
          "name": "stdout",
          "text": [
            "The number of female students in the dataset is: 208\n"
          ]
        }
      ]
    },
    {
      "cell_type": "markdown",
      "source": [
        "3. What are the ages of the first 5 records of the dataset?"
      ],
      "metadata": {
        "id": "9CxrHTITdIcv"
      }
    },
    {
      "cell_type": "code",
      "source": [
        "print(\"Ages of the first 5 students:\")\n",
        "print(df['age'].head(5))"
      ],
      "metadata": {
        "colab": {
          "base_uri": "https://localhost:8080/"
        },
        "id": "DOsm4ApixHez",
        "outputId": "9f73b714-1c83-4f34-a674-dd6645c772b3"
      },
      "execution_count": null,
      "outputs": [
        {
          "output_type": "stream",
          "name": "stdout",
          "text": [
            "Ages of the first 5 students:\n",
            "0    18\n",
            "1    17\n",
            "2    15\n",
            "3    15\n",
            "4    16\n",
            "Name: age, dtype: int64\n"
          ]
        }
      ]
    },
    {
      "cell_type": "markdown",
      "source": [
        "4. How many students attend the GP school?"
      ],
      "metadata": {
        "id": "ADxy0pc4dRjm"
      }
    },
    {
      "cell_type": "code",
      "source": [
        "gp_school_students = df[df['school'] == 'GP']\n",
        "print(f\"The number of students attending GP school is: {gp_school_students.shape[0]}\")"
      ],
      "metadata": {
        "colab": {
          "base_uri": "https://localhost:8080/"
        },
        "id": "ijsRPl45xRb1",
        "outputId": "2eea76e9-1fca-412c-c51f-eac7ed9fc0b3"
      },
      "execution_count": null,
      "outputs": [
        {
          "output_type": "stream",
          "name": "stdout",
          "text": [
            "The number of students attending GP school is: 349\n"
          ]
        }
      ]
    },
    {
      "cell_type": "markdown",
      "source": [
        "5. What are the last ten records of the dataset, as shown by .tail(10)?"
      ],
      "metadata": {
        "id": "7fNakQp0ddxe"
      }
    },
    {
      "cell_type": "code",
      "source": [
        "print(\"Last 10 records of the dataset:\")\n",
        "print(df.tail(10))"
      ],
      "metadata": {
        "colab": {
          "base_uri": "https://localhost:8080/"
        },
        "id": "CANyAWtMxrys",
        "outputId": "e029d00b-8fbe-465b-f22d-17c038de8242"
      },
      "execution_count": null,
      "outputs": [
        {
          "output_type": "stream",
          "name": "stdout",
          "text": [
            "Last 10 records of the dataset:\n",
            "    school sex  age address famsize Pstatus  Medu  Fedu      Mjob      Fjob  \\\n",
            "385     MS   F   18       R     GT3       T     2     2   at_home     other   \n",
            "386     MS   F   18       R     GT3       T     4     4   teacher   at_home   \n",
            "387     MS   F   19       R     GT3       T     2     3  services     other   \n",
            "388     MS   F   18       U     LE3       T     3     1   teacher  services   \n",
            "389     MS   F   18       U     GT3       T     1     1     other     other   \n",
            "390     MS   M   20       U     LE3       A     2     2  services  services   \n",
            "391     MS   M   17       U     LE3       T     3     1  services  services   \n",
            "392     MS   M   21       R     GT3       T     1     1     other     other   \n",
            "393     MS   M   18       R     LE3       T     3     2  services     other   \n",
            "394     MS   M   19       U     LE3       T     1     1     other   at_home   \n",
            "\n",
            "     ... famrel freetime  goout  Dalc  Walc health absences  G1  G2  G3  \n",
            "385  ...      5        3      3     1     3      4        2  10   9  10  \n",
            "386  ...      4        4      3     2     2      5        7   6   5   6  \n",
            "387  ...      5        4      2     1     2      5        0   7   5   0  \n",
            "388  ...      4        3      4     1     1      1        0   7   9   8  \n",
            "389  ...      1        1      1     1     1      5        0   6   5   0  \n",
            "390  ...      5        5      4     4     5      4       11   9   9   9  \n",
            "391  ...      2        4      5     3     4      2        3  14  16  16  \n",
            "392  ...      5        5      3     3     3      3        3  10   8   7  \n",
            "393  ...      4        4      1     3     4      5        0  11  12  10  \n",
            "394  ...      3        2      3     3     3      5        5   8   9   9  \n",
            "\n",
            "[10 rows x 33 columns]\n"
          ]
        }
      ]
    },
    {
      "cell_type": "markdown",
      "source": [
        "6. How many students live in urban areas, based on .value_counts() for the address column?"
      ],
      "metadata": {
        "id": "NigE84mYdxM9"
      }
    },
    {
      "cell_type": "code",
      "source": [
        "urban_students = df['address'].value_counts()['U']\n",
        "print(f\"The number of students living in urban areas is: {urban_students}\")"
      ],
      "metadata": {
        "colab": {
          "base_uri": "https://localhost:8080/"
        },
        "id": "NM1aLUE4xz7T",
        "outputId": "b98c85dd-3622-4abd-a54e-edaa3cb0aaf1"
      },
      "execution_count": null,
      "outputs": [
        {
          "output_type": "stream",
          "name": "stdout",
          "text": [
            "The number of students living in urban areas is: 307\n"
          ]
        }
      ]
    },
    {
      "cell_type": "markdown",
      "source": [
        "7. How many students have a family size greater than 3, using .value_counts() on the famsize column?"
      ],
      "metadata": {
        "id": "aNM1mxkdeG-K"
      }
    },
    {
      "cell_type": "code",
      "source": [
        "large_family_students = df['famsize'].value_counts()['GT3']\n",
        "print(f\"The number of students with family size greater than 3 is: {large_family_students}\")"
      ],
      "metadata": {
        "colab": {
          "base_uri": "https://localhost:8080/"
        },
        "id": "vE1Mb_oPyLmR",
        "outputId": "6be890d4-8251-4c85-a0be-cefee922c8fa"
      },
      "execution_count": null,
      "outputs": [
        {
          "output_type": "stream",
          "name": "stdout",
          "text": [
            "The number of students with family size greater than 3 is: 281\n"
          ]
        }
      ]
    },
    {
      "cell_type": "markdown",
      "source": [
        "8. What are the unique values in the reason column, using .unique()?"
      ],
      "metadata": {
        "id": "zJQkyuBheXUy"
      }
    },
    {
      "cell_type": "code",
      "source": [
        "print(\"Unique values in the 'reason' column:\")\n",
        "print(df['reason'].unique())"
      ],
      "metadata": {
        "colab": {
          "base_uri": "https://localhost:8080/"
        },
        "id": "kfB8koRKyXV5",
        "outputId": "7e723980-0c25-4da1-a3bb-eff3d37c6062"
      },
      "execution_count": null,
      "outputs": [
        {
          "output_type": "stream",
          "name": "stdout",
          "text": [
            "Unique values in the 'reason' column:\n",
            "['course' 'other' 'home' 'reputation']\n"
          ]
        }
      ]
    },
    {
      "cell_type": "markdown",
      "source": [
        "9. How many students have a mother as their guardian, based on .value_counts() for the guardian column?"
      ],
      "metadata": {
        "id": "iGMEt-UNejbc"
      }
    },
    {
      "cell_type": "code",
      "source": [
        "mother_guardian_students = df['guardian'].value_counts()['mother']\n",
        "print(f\"The number of students with a mother as their guardian is: {mother_guardian_students}\")"
      ],
      "metadata": {
        "colab": {
          "base_uri": "https://localhost:8080/"
        },
        "id": "-Fg7jIkJydVM",
        "outputId": "830897f2-45b4-4744-e2f4-a68c753762cc"
      },
      "execution_count": null,
      "outputs": [
        {
          "output_type": "stream",
          "name": "stdout",
          "text": [
            "The number of students with a mother as their guardian is: 273\n"
          ]
        }
      ]
    },
    {
      "cell_type": "markdown",
      "source": [
        "Examining Structure and Metadata"
      ],
      "metadata": {
        "id": "0oSwqR_1e0ia"
      }
    },
    {
      "cell_type": "markdown",
      "source": [
        "1. How many columns are in the dataset, as determined by .shape[1]?"
      ],
      "metadata": {
        "id": "W4kPUClAfBqh"
      }
    },
    {
      "cell_type": "code",
      "source": [
        "print(f\"The number of columns in the dataset is: {df.shape[1]}\")"
      ],
      "metadata": {
        "colab": {
          "base_uri": "https://localhost:8080/"
        },
        "id": "sA3El2F5ymnH",
        "outputId": "388eeab3-ecd6-4ed9-8a97-081a8bb1e051"
      },
      "execution_count": null,
      "outputs": [
        {
          "output_type": "stream",
          "name": "stdout",
          "text": [
            "The number of columns in the dataset is: 33\n"
          ]
        }
      ]
    },
    {
      "cell_type": "markdown",
      "source": [
        "2. What are the data types of all columns in the data set, using .dtypes()?"
      ],
      "metadata": {
        "id": "0cbTgwy5fO1x"
      }
    },
    {
      "cell_type": "code",
      "source": [
        "print(\"Data types of all columns:\")\n",
        "print(df.dtypes)"
      ],
      "metadata": {
        "colab": {
          "base_uri": "https://localhost:8080/"
        },
        "id": "O1paSy5-yrjY",
        "outputId": "f215256d-daf8-4bb5-d434-e45b6d59da40"
      },
      "execution_count": null,
      "outputs": [
        {
          "output_type": "stream",
          "name": "stdout",
          "text": [
            "Data types of all columns:\n",
            "school        object\n",
            "sex           object\n",
            "age            int64\n",
            "address       object\n",
            "famsize       object\n",
            "Pstatus       object\n",
            "Medu           int64\n",
            "Fedu           int64\n",
            "Mjob          object\n",
            "Fjob          object\n",
            "reason        object\n",
            "guardian      object\n",
            "traveltime     int64\n",
            "studytime      int64\n",
            "failures       int64\n",
            "schoolsup     object\n",
            "famsup        object\n",
            "paid          object\n",
            "activities    object\n",
            "nursery       object\n",
            "higher        object\n",
            "internet      object\n",
            "romantic      object\n",
            "famrel         int64\n",
            "freetime       int64\n",
            "goout          int64\n",
            "Dalc           int64\n",
            "Walc           int64\n",
            "health         int64\n",
            "absences       int64\n",
            "G1             int64\n",
            "G2             int64\n",
            "G3             int64\n",
            "dtype: object\n"
          ]
        }
      ]
    },
    {
      "cell_type": "markdown",
      "source": [
        "3. How many non-null values are in the G3 column, using not.null().sum()?"
      ],
      "metadata": {
        "id": "Q9WNIvorfhFL"
      }
    },
    {
      "cell_type": "code",
      "source": [
        "non_null_g3 = df['G3'].notnull().sum()\n",
        "print(f\"The number of non-null values in the G3 column is: {non_null_g3}\")"
      ],
      "metadata": {
        "colab": {
          "base_uri": "https://localhost:8080/"
        },
        "id": "2OLkXl75y23u",
        "outputId": "fbd7b887-ddf4-4448-8b33-9a14b4654f22"
      },
      "execution_count": null,
      "outputs": [
        {
          "output_type": "stream",
          "name": "stdout",
          "text": [
            "The number of non-null values in the G3 column is: 395\n"
          ]
        }
      ]
    },
    {
      "cell_type": "markdown",
      "source": [
        "4. What is the total memory usage of the dataset as reported by .info()?"
      ],
      "metadata": {
        "id": "yvw3mIJyfvVd"
      }
    },
    {
      "cell_type": "code",
      "source": [
        "print(\"Total memory usage of the dataset:\")\n",
        "df.info(memory_usage='deep')"
      ],
      "metadata": {
        "colab": {
          "base_uri": "https://localhost:8080/"
        },
        "id": "_aUWGSB_y9AX",
        "outputId": "98712cc3-211c-49dc-8a38-242afc4b3321"
      },
      "execution_count": null,
      "outputs": [
        {
          "output_type": "stream",
          "name": "stdout",
          "text": [
            "Total memory usage of the dataset:\n",
            "<class 'pandas.core.frame.DataFrame'>\n",
            "RangeIndex: 395 entries, 0 to 394\n",
            "Data columns (total 33 columns):\n",
            " #   Column      Non-Null Count  Dtype \n",
            "---  ------      --------------  ----- \n",
            " 0   school      395 non-null    object\n",
            " 1   sex         395 non-null    object\n",
            " 2   age         395 non-null    int64 \n",
            " 3   address     395 non-null    object\n",
            " 4   famsize     395 non-null    object\n",
            " 5   Pstatus     395 non-null    object\n",
            " 6   Medu        395 non-null    int64 \n",
            " 7   Fedu        395 non-null    int64 \n",
            " 8   Mjob        395 non-null    object\n",
            " 9   Fjob        395 non-null    object\n",
            " 10  reason      395 non-null    object\n",
            " 11  guardian    395 non-null    object\n",
            " 12  traveltime  395 non-null    int64 \n",
            " 13  studytime   395 non-null    int64 \n",
            " 14  failures    395 non-null    int64 \n",
            " 15  schoolsup   395 non-null    object\n",
            " 16  famsup      395 non-null    object\n",
            " 17  paid        395 non-null    object\n",
            " 18  activities  395 non-null    object\n",
            " 19  nursery     395 non-null    object\n",
            " 20  higher      395 non-null    object\n",
            " 21  internet    395 non-null    object\n",
            " 22  romantic    395 non-null    object\n",
            " 23  famrel      395 non-null    int64 \n",
            " 24  freetime    395 non-null    int64 \n",
            " 25  goout       395 non-null    int64 \n",
            " 26  Dalc        395 non-null    int64 \n",
            " 27  Walc        395 non-null    int64 \n",
            " 28  health      395 non-null    int64 \n",
            " 29  absences    395 non-null    int64 \n",
            " 30  G1          395 non-null    int64 \n",
            " 31  G2          395 non-null    int64 \n",
            " 32  G3          395 non-null    int64 \n",
            "dtypes: int64(16), object(17)\n",
            "memory usage: 443.9 KB\n"
          ]
        }
      ]
    },
    {
      "cell_type": "markdown",
      "source": [
        "5. How many categorical columns (e.g., school, sex) are in the dataset, based on .dtypes?"
      ],
      "metadata": {
        "id": "RVrxSgzmf7C2"
      }
    },
    {
      "cell_type": "code",
      "source": [
        "categorical_columns = df.select_dtypes(include='object').shape[1]\n",
        "print(f\"The number of categorical columns in the dataset is: {categorical_columns}\")"
      ],
      "metadata": {
        "colab": {
          "base_uri": "https://localhost:8080/"
        },
        "id": "PAduYyq1zFIk",
        "outputId": "d4f1ebee-cb5a-4e12-e5e0-5ebf4a113838"
      },
      "execution_count": null,
      "outputs": [
        {
          "output_type": "stream",
          "name": "stdout",
          "text": [
            "The number of categorical columns in the dataset is: 17\n"
          ]
        }
      ]
    },
    {
      "cell_type": "markdown",
      "source": [
        "6. What are the names of all the columns in the dataset?"
      ],
      "metadata": {
        "id": "DMwWf_TVgHkb"
      }
    },
    {
      "cell_type": "code",
      "source": [
        "print(\"Names of all columns:\")\n",
        "print(df.columns.tolist())"
      ],
      "metadata": {
        "colab": {
          "base_uri": "https://localhost:8080/"
        },
        "id": "pVj5ZQ3WzLc2",
        "outputId": "53cce855-0cc7-4094-93a0-a36361765bbf"
      },
      "execution_count": null,
      "outputs": [
        {
          "output_type": "stream",
          "name": "stdout",
          "text": [
            "Names of all columns:\n",
            "['school', 'sex', 'age', 'address', 'famsize', 'Pstatus', 'Medu', 'Fedu', 'Mjob', 'Fjob', 'reason', 'guardian', 'traveltime', 'studytime', 'failures', 'schoolsup', 'famsup', 'paid', 'activities', 'nursery', 'higher', 'internet', 'romantic', 'famrel', 'freetime', 'goout', 'Dalc', 'Walc', 'health', 'absences', 'G1', 'G2', 'G3']\n"
          ]
        }
      ]
    },
    {
      "cell_type": "markdown",
      "source": [
        "7. How many numeric columns are in the dataset?"
      ],
      "metadata": {
        "id": "ho5spAjZgXuA"
      }
    },
    {
      "cell_type": "code",
      "source": [
        "numeric_columns = df.select_dtypes(include=np.number).shape[1]\n",
        "print(f\"The number of numeric columns in the dataset is: {numeric_columns}\")"
      ],
      "metadata": {
        "colab": {
          "base_uri": "https://localhost:8080/"
        },
        "id": "tRtswmQazRPp",
        "outputId": "d9a95c07-12c5-4dca-d488-40ed9158759e"
      },
      "execution_count": null,
      "outputs": [
        {
          "output_type": "stream",
          "name": "stdout",
          "text": [
            "The number of numeric columns in the dataset is: 16\n"
          ]
        }
      ]
    },
    {
      "cell_type": "markdown",
      "source": [
        "8. How many rows and columns does the dataset have?"
      ],
      "metadata": {
        "id": "FDzDi4DRgdkZ"
      }
    },
    {
      "cell_type": "code",
      "source": [
        "print(f\"The dataset has {df.shape[0]} rows and {df.shape[1]} columns.\")"
      ],
      "metadata": {
        "colab": {
          "base_uri": "https://localhost:8080/"
        },
        "id": "YeWAWi_yzYHm",
        "outputId": "14044385-b5d5-4ab9-ee6b-18861fb43177"
      },
      "execution_count": null,
      "outputs": [
        {
          "output_type": "stream",
          "name": "stdout",
          "text": [
            "The dataset has 395 rows and 33 columns.\n"
          ]
        }
      ]
    },
    {
      "cell_type": "markdown",
      "source": [
        "9. What is the count of non-null entries for each column?"
      ],
      "metadata": {
        "id": "FaMTiV6pgr7w"
      }
    },
    {
      "cell_type": "code",
      "source": [
        "print(\"Count of non-null entries for each column:\")\n",
        "print(df.notnull().sum())"
      ],
      "metadata": {
        "colab": {
          "base_uri": "https://localhost:8080/"
        },
        "id": "IFBy8OaAzeT-",
        "outputId": "586c3afa-dfcb-458b-e44c-306813d493fc"
      },
      "execution_count": null,
      "outputs": [
        {
          "output_type": "stream",
          "name": "stdout",
          "text": [
            "Count of non-null entries for each column:\n",
            "school        395\n",
            "sex           395\n",
            "age           395\n",
            "address       395\n",
            "famsize       395\n",
            "Pstatus       395\n",
            "Medu          395\n",
            "Fedu          395\n",
            "Mjob          395\n",
            "Fjob          395\n",
            "reason        395\n",
            "guardian      395\n",
            "traveltime    395\n",
            "studytime     395\n",
            "failures      395\n",
            "schoolsup     395\n",
            "famsup        395\n",
            "paid          395\n",
            "activities    395\n",
            "nursery       395\n",
            "higher        395\n",
            "internet      395\n",
            "romantic      395\n",
            "famrel        395\n",
            "freetime      395\n",
            "goout         395\n",
            "Dalc          395\n",
            "Walc          395\n",
            "health        395\n",
            "absences      395\n",
            "G1            395\n",
            "G2            395\n",
            "G3            395\n",
            "dtype: int64\n"
          ]
        }
      ]
    },
    {
      "cell_type": "markdown",
      "source": [
        "Statistical Summarizarion"
      ],
      "metadata": {
        "id": "CNOL7U1YgzG3"
      }
    },
    {
      "cell_type": "markdown",
      "source": [
        "1. What is the average final grade (G3) of students?"
      ],
      "metadata": {
        "id": "Ubsag3ILg4QG"
      }
    },
    {
      "cell_type": "code",
      "source": [
        "average_g3 = df['G3'].mean()\n",
        "print(f\"The average final grade (G3) of students is: {average_g3:.2f}\")"
      ],
      "metadata": {
        "colab": {
          "base_uri": "https://localhost:8080/"
        },
        "id": "rHXchE_BzqV4",
        "outputId": "027e0c0f-c1b6-4ef2-d023-920bf0424082"
      },
      "execution_count": null,
      "outputs": [
        {
          "output_type": "stream",
          "name": "stdout",
          "text": [
            "The average final grade (G3) of students is: 10.42\n"
          ]
        }
      ]
    },
    {
      "cell_type": "markdown",
      "source": [
        "2. How many students have a studytime of more than 10 hours?"
      ],
      "metadata": {
        "id": "UUWmpTwShCQr"
      }
    },
    {
      "cell_type": "code",
      "source": [
        "studytime_greater_than_10 = df[df['studytime'] > 10].shape[0]\n",
        "print(f\"The number of students with studytime greater than 10 hours is: {studytime_greater_than_10}\")"
      ],
      "metadata": {
        "colab": {
          "base_uri": "https://localhost:8080/"
        },
        "id": "v41eAlCGzwq4",
        "outputId": "491b5145-227e-4402-f806-b94c4c21d54a"
      },
      "execution_count": null,
      "outputs": [
        {
          "output_type": "stream",
          "name": "stdout",
          "text": [
            "The number of students with studytime greater than 10 hours is: 0\n"
          ]
        }
      ]
    },
    {
      "cell_type": "markdown",
      "source": [
        "3. What are the minimum and maximum ages of students in the dataset?"
      ],
      "metadata": {
        "id": "MjJuLH6ZhPxX"
      }
    },
    {
      "cell_type": "code",
      "source": [
        "min_age = df['age'].min()\n",
        "max_age = df['age'].max()\n",
        "print(f\"The minimum age of students is: {min_age}\")\n",
        "print(f\"The maximum age of students is: {max_age}\")"
      ],
      "metadata": {
        "colab": {
          "base_uri": "https://localhost:8080/"
        },
        "id": "q079y3Nuz23P",
        "outputId": "5073acc8-c59a-406b-f33c-ae47951d8609"
      },
      "execution_count": null,
      "outputs": [
        {
          "output_type": "stream",
          "name": "stdout",
          "text": [
            "The minimum age of students is: 15\n",
            "The maximum age of students is: 22\n"
          ]
        }
      ]
    },
    {
      "cell_type": "markdown",
      "source": [
        "4. How many students have zero absences?"
      ],
      "metadata": {
        "id": "IFtBTDZQhXPZ"
      }
    },
    {
      "cell_type": "code",
      "source": [
        "zero_absences_students = df[df['absences'] == 0].shape[0]\n",
        "print(f\"The number of students with zero absences is: {zero_absences_students}\")"
      ],
      "metadata": {
        "colab": {
          "base_uri": "https://localhost:8080/"
        },
        "id": "i6vt3O0mz89U",
        "outputId": "3c7ccf9c-c728-489d-c9f9-10118815cdd7"
      },
      "execution_count": null,
      "outputs": [
        {
          "output_type": "stream",
          "name": "stdout",
          "text": [
            "The number of students with zero absences is: 115\n"
          ]
        }
      ]
    },
    {
      "cell_type": "markdown",
      "source": [
        "5. What is the median famrel score?"
      ],
      "metadata": {
        "id": "UbvG26aKhojs"
      }
    },
    {
      "cell_type": "code",
      "source": [
        "median_famrel = df['famrel'].median()\n",
        "print(f\"The median famrel score is: {median_famrel}\")"
      ],
      "metadata": {
        "colab": {
          "base_uri": "https://localhost:8080/"
        },
        "id": "ufivBAOS0Dmp",
        "outputId": "fea59656-9b67-43d3-a9f1-7d1f3251fd06"
      },
      "execution_count": null,
      "outputs": [
        {
          "output_type": "stream",
          "name": "stdout",
          "text": [
            "The median famrel score is: 4.0\n"
          ]
        }
      ]
    },
    {
      "cell_type": "markdown",
      "source": [
        "6. How many unique values are in the Mjob column?"
      ],
      "metadata": {
        "id": "AFTMZueghuAJ"
      }
    },
    {
      "cell_type": "code",
      "source": [
        "unique_mjob_count = df['Mjob'].nunique()\n",
        "print(f\"The number of unique values in the Mjob column is: {unique_mjob_count}\")"
      ],
      "metadata": {
        "colab": {
          "base_uri": "https://localhost:8080/"
        },
        "id": "dYZSH2PL0Ke7",
        "outputId": "b86e2b52-a359-4532-9fe3-08bb3325c06f"
      },
      "execution_count": null,
      "outputs": [
        {
          "output_type": "stream",
          "name": "stdout",
          "text": [
            "The number of unique values in the Mjob column is: 5\n"
          ]
        }
      ]
    },
    {
      "cell_type": "markdown",
      "source": [
        "7. What is the standard deviation of G1 grades?"
      ],
      "metadata": {
        "id": "61TNYl4kh5oO"
      }
    },
    {
      "cell_type": "code",
      "source": [
        "std_g1 = df['G1'].std()\n",
        "print(f\"The standard deviation of G1 grades is: {std_g1:.2f}\")"
      ],
      "metadata": {
        "colab": {
          "base_uri": "https://localhost:8080/"
        },
        "id": "QjxQOZk00Q80",
        "outputId": "65134cb7-5362-45c9-bd51-518d70fca7bc"
      },
      "execution_count": null,
      "outputs": [
        {
          "output_type": "stream",
          "name": "stdout",
          "text": [
            "The standard deviation of G1 grades is: 3.32\n"
          ]
        }
      ]
    },
    {
      "cell_type": "markdown",
      "source": [
        "8. How many students have a Walc (weekend alcohol consumption) score of 5?"
      ],
      "metadata": {
        "id": "n9TN6eIPiBsJ"
      }
    },
    {
      "cell_type": "code",
      "source": [
        "walc_5_students = df[df['Walc'] == 5].shape[0]\n",
        "print(f\"The number of students with a Walc score of 5 is: {walc_5_students}\")"
      ],
      "metadata": {
        "colab": {
          "base_uri": "https://localhost:8080/"
        },
        "id": "-6-fNygS0XbR",
        "outputId": "e75e48bd-c1fc-45d1-8714-fba7500834c2"
      },
      "execution_count": null,
      "outputs": [
        {
          "output_type": "stream",
          "name": "stdout",
          "text": [
            "The number of students with a Walc score of 5 is: 28\n"
          ]
        }
      ]
    },
    {
      "cell_type": "markdown",
      "source": [
        "9. What is the average traveltime for students?"
      ],
      "metadata": {
        "id": "qaTEzGSfiNVZ"
      }
    },
    {
      "cell_type": "code",
      "source": [
        "average_traveltime = df['traveltime'].mean()\n",
        "print(f\"The average traveltime for students is: {average_traveltime:.2f}\")"
      ],
      "metadata": {
        "colab": {
          "base_uri": "https://localhost:8080/"
        },
        "id": "96rI3ohJ0dzA",
        "outputId": "3d13b171-cb7e-434c-c1e4-2eb53532e074"
      },
      "execution_count": null,
      "outputs": [
        {
          "output_type": "stream",
          "name": "stdout",
          "text": [
            "The average traveltime for students is: 1.45\n"
          ]
        }
      ]
    },
    {
      "cell_type": "markdown",
      "source": [
        "10. How many students have failures value of 4?"
      ],
      "metadata": {
        "id": "QSTy2c0JiWgM"
      }
    },
    {
      "cell_type": "code",
      "source": [
        "failures_4_students = df[df['failures'] == 4].shape[0]\n",
        "print(f\"The number of students with a failures value of 4 is: {failures_4_students}\")"
      ],
      "metadata": {
        "colab": {
          "base_uri": "https://localhost:8080/"
        },
        "id": "0DrYVMXu001c",
        "outputId": "adfab746-2f8a-4ee7-8829-715def5f69e1"
      },
      "execution_count": null,
      "outputs": [
        {
          "output_type": "stream",
          "name": "stdout",
          "text": [
            "The number of students with a failures value of 4 is: 0\n"
          ]
        }
      ]
    },
    {
      "cell_type": "markdown",
      "source": [
        "11. What is the 75th percentile of G2 grades?"
      ],
      "metadata": {
        "id": "yVoNfQQJigeJ"
      }
    },
    {
      "cell_type": "code",
      "source": [
        "percentile_75_g2 = df['G2'].quantile(0.75)\n",
        "print(f\"The 75th percentile of G2 grades is: {percentile_75_g2}\")"
      ],
      "metadata": {
        "colab": {
          "base_uri": "https://localhost:8080/"
        },
        "id": "htigf5wm08BW",
        "outputId": "c7dd6c8b-abc5-487d-ba7e-47ac40447c7d"
      },
      "execution_count": null,
      "outputs": [
        {
          "output_type": "stream",
          "name": "stdout",
          "text": [
            "The 75th percentile of G2 grades is: 13.0\n"
          ]
        }
      ]
    },
    {
      "cell_type": "markdown",
      "source": [
        "12. How many students have a health score of 1 (very bad)?"
      ],
      "metadata": {
        "id": "VJ3dVl6rioJC"
      }
    },
    {
      "cell_type": "code",
      "source": [
        "health_1_students = df[df['health'] == 1].shape[0]\n",
        "print(f\"The number of students with a health score of 1 is: {health_1_students}\")"
      ],
      "metadata": {
        "colab": {
          "base_uri": "https://localhost:8080/"
        },
        "id": "8Msqvi741C6V",
        "outputId": "0e91c351-53ca-4eca-d18c-1322cb30f281"
      },
      "execution_count": null,
      "outputs": [
        {
          "output_type": "stream",
          "name": "stdout",
          "text": [
            "The number of students with a health score of 1 is: 47\n"
          ]
        }
      ]
    },
    {
      "cell_type": "markdown",
      "source": [
        "13. What is the maximum number of absences recorded?"
      ],
      "metadata": {
        "id": "Nu_d0ktViz1_"
      }
    },
    {
      "cell_type": "code",
      "source": [
        "max_absences = df['absences'].max()\n",
        "print(f\"The maximum number of absences recorded is: {max_absences}\")"
      ],
      "metadata": {
        "colab": {
          "base_uri": "https://localhost:8080/"
        },
        "id": "_jolp6bp1JrH",
        "outputId": "a1a1e423-3cfc-4fed-a250-f96216092792"
      },
      "execution_count": null,
      "outputs": [
        {
          "output_type": "stream",
          "name": "stdout",
          "text": [
            "The maximum number of absences recorded is: 75\n"
          ]
        }
      ]
    },
    {
      "cell_type": "markdown",
      "source": [
        "14. How many students want to pursue higher education?"
      ],
      "metadata": {
        "id": "Cb8rUCJMi6Uo"
      }
    },
    {
      "cell_type": "code",
      "source": [
        "higher_education_students = df[df['higher'] == 'yes'].shape[0]\n",
        "print(f\"The number of students who want to pursue higher education is: {higher_education_students}\")"
      ],
      "metadata": {
        "colab": {
          "base_uri": "https://localhost:8080/"
        },
        "id": "HncqdF9m1RPd",
        "outputId": "9d350515-4436-4b86-da7b-6d2ce2ed9f17"
      },
      "execution_count": null,
      "outputs": [
        {
          "output_type": "stream",
          "name": "stdout",
          "text": [
            "The number of students who want to pursue higher education is: 375\n"
          ]
        }
      ]
    },
    {
      "cell_type": "markdown",
      "source": [
        "15. What is the average freetime score for students?"
      ],
      "metadata": {
        "id": "jTMFdHwzjB9X"
      }
    },
    {
      "cell_type": "code",
      "source": [
        "average_freetime = df['freetime'].mean()\n",
        "print(f\"The average freetime score for students is: {average_freetime:.2f}\")"
      ],
      "metadata": {
        "colab": {
          "base_uri": "https://localhost:8080/"
        },
        "id": "780V33gJ1Yvt",
        "outputId": "bc7f6054-5d5f-4308-ea62-3f37acb96c80"
      },
      "execution_count": null,
      "outputs": [
        {
          "output_type": "stream",
          "name": "stdout",
          "text": [
            "The average freetime score for students is: 3.24\n"
          ]
        }
      ]
    },
    {
      "cell_type": "markdown",
      "source": [
        "16. How many unique values are in the Fjob column?"
      ],
      "metadata": {
        "id": "4C2eWgo5jINo"
      }
    },
    {
      "cell_type": "code",
      "source": [
        "unique_fjob_count = df['Fjob'].nunique()\n",
        "print(f\"The number of unique values in the Fjob column is: {unique_fjob_count}\")"
      ],
      "metadata": {
        "colab": {
          "base_uri": "https://localhost:8080/"
        },
        "id": "wkmA8Ist1fDi",
        "outputId": "bce41a82-216a-4d32-e38f-b2e623a1a079"
      },
      "execution_count": null,
      "outputs": [
        {
          "output_type": "stream",
          "name": "stdout",
          "text": [
            "The number of unique values in the Fjob column is: 5\n"
          ]
        }
      ]
    },
    {
      "cell_type": "markdown",
      "source": [
        "17. What is the distribution of goout scores?"
      ],
      "metadata": {
        "id": "mkfCU5-_jcdg"
      }
    },
    {
      "cell_type": "code",
      "source": [
        "print(\"Distribution of goout scores:\")\n",
        "print(df['goout'].value_counts())"
      ],
      "metadata": {
        "colab": {
          "base_uri": "https://localhost:8080/"
        },
        "id": "XcfKOEVG1pFH",
        "outputId": "6e020abc-6d4e-48e7-8762-dcb44280050e"
      },
      "execution_count": null,
      "outputs": [
        {
          "output_type": "stream",
          "name": "stdout",
          "text": [
            "Distribution of goout scores:\n",
            "goout\n",
            "3    130\n",
            "2    103\n",
            "4     86\n",
            "5     53\n",
            "1     23\n",
            "Name: count, dtype: int64\n"
          ]
        }
      ]
    },
    {
      "cell_type": "markdown",
      "source": [
        "18. How many students have a Dalc (workday alcohol consumption) score of 1?"
      ],
      "metadata": {
        "id": "Uc_nD4xyjjmz"
      }
    },
    {
      "cell_type": "code",
      "source": [
        "dalc_1_students = df[df['Dalc'] == 1].shape[0]\n",
        "print(f\"The number of students with a Dalc score of 1 is: {dalc_1_students}\")"
      ],
      "metadata": {
        "colab": {
          "base_uri": "https://localhost:8080/"
        },
        "id": "PMZJq3qd1wnu",
        "outputId": "111acc82-41f4-4d02-f6e8-371e736b1943"
      },
      "execution_count": null,
      "outputs": [
        {
          "output_type": "stream",
          "name": "stdout",
          "text": [
            "The number of students with a Dalc score of 1 is: 276\n"
          ]
        }
      ]
    },
    {
      "cell_type": "markdown",
      "source": [
        "19. What is the average Medu (mothers education) level?"
      ],
      "metadata": {
        "id": "4a19bcpXjxH1"
      }
    },
    {
      "cell_type": "code",
      "source": [
        "average_medu = df['Medu'].mean()\n",
        "print(f\"The average Medu (mothers education) level is: {average_medu:.2f}\")"
      ],
      "metadata": {
        "colab": {
          "base_uri": "https://localhost:8080/"
        },
        "id": "idTplW7z13j3",
        "outputId": "9ff9166e-6f1b-4589-a7d8-ad4d813af4fb"
      },
      "execution_count": null,
      "outputs": [
        {
          "output_type": "stream",
          "name": "stdout",
          "text": [
            "The average Medu (mothers education) level is: 2.75\n"
          ]
        }
      ]
    },
    {
      "cell_type": "markdown",
      "source": [
        "20. How many students have a Pstatu of A (parents living apart)?"
      ],
      "metadata": {
        "id": "vERjPQy2j7i1"
      }
    },
    {
      "cell_type": "code",
      "source": [
        "pstatus_a_students = df[df['Pstatus'] == 'A'].shape[0]\n",
        "print(f\"The number of students with a Pstatus of A is: {pstatus_a_students}\")"
      ],
      "metadata": {
        "colab": {
          "base_uri": "https://localhost:8080/"
        },
        "id": "CAeslfOE19pI",
        "outputId": "cec476c7-4885-4a7a-c5a7-37a5762ee3f0"
      },
      "execution_count": null,
      "outputs": [
        {
          "output_type": "stream",
          "name": "stdout",
          "text": [
            "The number of students with a Pstatus of A is: 41\n"
          ]
        }
      ]
    },
    {
      "cell_type": "markdown",
      "source": [
        "Detecting Missing Values and Anomalies"
      ],
      "metadata": {
        "id": "vemhzHa-mtjF"
      }
    },
    {
      "cell_type": "markdown",
      "source": [
        "1. How many values are in G3 column?"
      ],
      "metadata": {
        "id": "8vXiWJp2m0Ck"
      }
    },
    {
      "cell_type": "code",
      "source": [
        "g3_count = df['G3'].count()\n",
        "print(f\"The number of values in the G3 column is: {g3_count}\")"
      ],
      "metadata": {
        "colab": {
          "base_uri": "https://localhost:8080/"
        },
        "id": "EBXg3X4p2I1A",
        "outputId": "457bced1-f982-4752-a474-b97758d57762"
      },
      "execution_count": null,
      "outputs": [
        {
          "output_type": "stream",
          "name": "stdout",
          "text": [
            "The number of values in the G3 column is: 395\n"
          ]
        }
      ]
    },
    {
      "cell_type": "markdown",
      "source": [
        "2. What is the total number of missing values across all columns?"
      ],
      "metadata": {
        "id": "ncMgboXzm5RI"
      }
    },
    {
      "cell_type": "code",
      "source": [
        "total_missing_values = df.isnull().sum().sum()\n",
        "print(f\"The total number of missing values across all columns is: {total_missing_values}\")"
      ],
      "metadata": {
        "colab": {
          "base_uri": "https://localhost:8080/"
        },
        "id": "yXRMxtG22PKO",
        "outputId": "b2295151-f9ed-4cfe-d4b8-4940add1e7c2"
      },
      "execution_count": null,
      "outputs": [
        {
          "output_type": "stream",
          "name": "stdout",
          "text": [
            "The total number of missing values across all columns is: 0\n"
          ]
        }
      ]
    },
    {
      "cell_type": "markdown",
      "source": [
        "3. How many students have nonnull values in the internet columns?"
      ],
      "metadata": {
        "id": "aBI3LrxcnE6u"
      }
    },
    {
      "cell_type": "code",
      "source": [
        "non_null_internet = df['internet'].notnull().sum()\n",
        "print(f\"The number of students with non-null values in the internet column is: {non_null_internet}\")"
      ],
      "metadata": {
        "colab": {
          "base_uri": "https://localhost:8080/"
        },
        "id": "jjYdP-562Vj7",
        "outputId": "6e61d8ce-24be-459f-9864-aa974b5ecb4b"
      },
      "execution_count": null,
      "outputs": [
        {
          "output_type": "stream",
          "name": "stdout",
          "text": [
            "The number of students with non-null values in the internet column is: 395\n"
          ]
        }
      ]
    },
    {
      "cell_type": "markdown",
      "source": [
        "4. What percentage of the datasets rows have missing values?"
      ],
      "metadata": {
        "id": "uRqkbuDHnZhv"
      }
    },
    {
      "cell_type": "code",
      "source": [
        "rows_with_missing_values = df.isnull().any(axis=1).sum()\n",
        "percentage_rows_with_missing = (rows_with_missing_values / len(df)) * 100\n",
        "print(f\"The percentage of rows with missing values is: {percentage_rows_with_missing:.2f}%\")"
      ],
      "metadata": {
        "colab": {
          "base_uri": "https://localhost:8080/"
        },
        "id": "5UdP6Y-L2nQH",
        "outputId": "2c0768aa-51fb-46e8-97c0-6ae5de2feb31"
      },
      "execution_count": null,
      "outputs": [
        {
          "output_type": "stream",
          "name": "stdout",
          "text": [
            "The percentage of rows with missing values is: 0.00%\n"
          ]
        }
      ]
    },
    {
      "cell_type": "markdown",
      "source": [
        "5. How many students have an age outside the expected range (15-22)?"
      ],
      "metadata": {
        "id": "db-9eXptnnhr"
      }
    },
    {
      "cell_type": "code",
      "source": [
        "students_outside_age_range = df[(df['age'] < 15) | (df['age'] > 22)].shape[0]\n",
        "print(f\"The number of students with an age outside the expected range (15-22) is: {students_outside_age_range}\")"
      ],
      "metadata": {
        "colab": {
          "base_uri": "https://localhost:8080/"
        },
        "id": "XmqTDp462teS",
        "outputId": "20a7c5a6-b122-44d5-d4af-a301bbc128f1"
      },
      "execution_count": null,
      "outputs": [
        {
          "output_type": "stream",
          "name": "stdout",
          "text": [
            "The number of students with an age outside the expected range (15-22) is: 0\n"
          ]
        }
      ]
    },
    {
      "cell_type": "markdown",
      "source": [
        "6. What is the number of duplicate rows in the data set?"
      ],
      "metadata": {
        "id": "GgSADQXLnwgi"
      }
    },
    {
      "cell_type": "code",
      "source": [
        "duplicate_rows = df.duplicated().sum()\n",
        "print(f\"The number of duplicate rows in the dataset is: {duplicate_rows}\")"
      ],
      "metadata": {
        "colab": {
          "base_uri": "https://localhost:8080/"
        },
        "id": "eg5Uzmhi2z4S",
        "outputId": "8132a3e6-65be-426e-9f2e-02ac7b61cafd"
      },
      "execution_count": null,
      "outputs": [
        {
          "output_type": "stream",
          "name": "stdout",
          "text": [
            "The number of duplicate rows in the dataset is: 0\n"
          ]
        }
      ]
    },
    {
      "cell_type": "markdown",
      "source": [
        "7. How many students have unusually high absences value (e.g.,>50)?"
      ],
      "metadata": {
        "id": "4VZVUz_Cn2zP"
      }
    },
    {
      "cell_type": "code",
      "source": [
        "unusually_high_absences = df[df['absences'] > 50].shape[0]\n",
        "print(f\"The number of students with unusually high absences (>50) is: {unusually_high_absences}\")"
      ],
      "metadata": {
        "colab": {
          "base_uri": "https://localhost:8080/"
        },
        "id": "A7V2zlB53A0Y",
        "outputId": "9a1b63d0-21fe-4087-beb8-a9b7f6f91ca1"
      },
      "execution_count": null,
      "outputs": [
        {
          "output_type": "stream",
          "name": "stdout",
          "text": [
            "The number of students with unusually high absences (>50) is: 3\n"
          ]
        }
      ]
    },
    {
      "cell_type": "markdown",
      "source": [
        "8. What columns have the highest number of missing values?"
      ],
      "metadata": {
        "id": "1GFp0oBgoH77"
      }
    },
    {
      "cell_type": "code",
      "source": [
        "missing_values_count = df.isnull().sum()\n",
        "highest_missing_count = missing_values_count.max()\n",
        "columns_with_highest_missing = missing_values_count[missing_values_count == highest_missing_count].index.tolist()\n",
        "print(f\"The highest number of missing values in any column is: {highest_missing_count}\")\n",
        "print(f\"Column(s) with the highest number of missing values: {columns_with_highest_missing}\")"
      ],
      "metadata": {
        "colab": {
          "base_uri": "https://localhost:8080/"
        },
        "id": "1iPRwBtT3PaI",
        "outputId": "e8056f0d-4f45-4cd8-a7a9-48bafd89ed48"
      },
      "execution_count": null,
      "outputs": [
        {
          "output_type": "stream",
          "name": "stdout",
          "text": [
            "The highest number of missing values in any column is: 0\n",
            "Column(s) with the highest number of missing values: ['school', 'sex', 'age', 'address', 'famsize', 'Pstatus', 'Medu', 'Fedu', 'Mjob', 'Fjob', 'reason', 'guardian', 'traveltime', 'studytime', 'failures', 'schoolsup', 'famsup', 'paid', 'activities', 'nursery', 'higher', 'internet', 'romantic', 'famrel', 'freetime', 'goout', 'Dalc', 'Walc', 'health', 'absences', 'G1', 'G2', 'G3']\n"
          ]
        }
      ]
    },
    {
      "cell_type": "markdown",
      "source": [
        "9. How many students have inconsistent grades (e.g., G1 or G2>20)?"
      ],
      "metadata": {
        "id": "UD14hu3GoS_u"
      }
    },
    {
      "cell_type": "code",
      "source": [
        "inconsistent_grades_students = df[(df['G1'] > 20) | (df['G2'] > 20)].shape[0]\n",
        "print(f\"The number of students with inconsistent grades (G1 or G2 > 20) is: {inconsistent_grades_students}\")"
      ],
      "metadata": {
        "colab": {
          "base_uri": "https://localhost:8080/"
        },
        "id": "Pzp5Aewk3YPB",
        "outputId": "4a9bb354-919d-44ad-f84e-9bec1e05396e"
      },
      "execution_count": null,
      "outputs": [
        {
          "output_type": "stream",
          "name": "stdout",
          "text": [
            "The number of students with inconsistent grades (G1 or G2 > 20) is: 0\n"
          ]
        }
      ]
    },
    {
      "cell_type": "markdown",
      "source": [
        "10. What is the count of students with a failures value outside the expected range (1-4)?"
      ],
      "metadata": {
        "id": "C6XmdsIxoer6"
      }
    },
    {
      "cell_type": "code",
      "source": [
        "students_outside_failures_range = df[(df['failures'] < 1) | (df['failures'] > 4)].shape[0]\n",
        "print(f\"The number of students with a failures value outside the expected range (1-4) is: {students_outside_failures_range}\")"
      ],
      "metadata": {
        "colab": {
          "base_uri": "https://localhost:8080/"
        },
        "id": "xiCqsbA93nDi",
        "outputId": "87786642-ea32-4498-df72-fb07384725ee"
      },
      "execution_count": null,
      "outputs": [
        {
          "output_type": "stream",
          "name": "stdout",
          "text": [
            "The number of students with a failures value outside the expected range (1-4) is: 312\n"
          ]
        }
      ]
    },
    {
      "cell_type": "markdown",
      "source": [
        "Eploring Relationships and Patterns"
      ],
      "metadata": {
        "id": "rOjAIXRXoqPx"
      }
    },
    {
      "cell_type": "markdown",
      "source": [
        "1. How many female students have a G3 grade above 15?"
      ],
      "metadata": {
        "id": "zprDhB1dovdk"
      }
    },
    {
      "cell_type": "code",
      "source": [
        "female_students_high_g3 = df[(df['sex'] == 'F') & (df['G3'] > 15)].shape[0]\n",
        "print(f\"The number of female students with a G3 grade above 15 is: {female_students_high_g3}\")"
      ],
      "metadata": {
        "colab": {
          "base_uri": "https://localhost:8080/"
        },
        "id": "Kw1QbRmb4H08",
        "outputId": "1d01ef94-2a09-4f13-fb0a-e945a13ed5b8"
      },
      "execution_count": null,
      "outputs": [
        {
          "output_type": "stream",
          "name": "stdout",
          "text": [
            "The number of female students with a G3 grade above 15 is: 16\n"
          ]
        }
      ]
    },
    {
      "cell_type": "markdown",
      "source": [
        "2. What is the average G3 grade for students at the MS school using .groupby(school)?"
      ],
      "metadata": {
        "id": "AGDzIfZzo1Mh"
      }
    },
    {
      "cell_type": "code",
      "source": [
        "average_g3_ms_school = df.groupby('school')['G3'].mean()['MS']\n",
        "print(f\"The average G3 grade for students at the MS school is: {average_g3_ms_school:.2f}\")"
      ],
      "metadata": {
        "colab": {
          "base_uri": "https://localhost:8080/"
        },
        "id": "Qi7GtiFp4key",
        "outputId": "78caae90-25eb-4167-e22f-88546fd4b435"
      },
      "execution_count": null,
      "outputs": [
        {
          "output_type": "stream",
          "name": "stdout",
          "text": [
            "The average G3 grade for students at the MS school is: 9.85\n"
          ]
        }
      ]
    },
    {
      "cell_type": "markdown",
      "source": [
        "3. How many students with study time greater than 5 hours have a G3 grade below 10, using .query()?"
      ],
      "metadata": {
        "id": "uOGN6idopAYw"
      }
    },
    {
      "cell_type": "code",
      "source": [
        "students_studytime_low_g3 = df.query('studytime > 5 and G3 < 10').shape[0]\n",
        "print(f\"The number of students with study time greater than 5 hours and a G3 grade below 10 is: {students_studytime_low_g3}\")"
      ],
      "metadata": {
        "colab": {
          "base_uri": "https://localhost:8080/"
        },
        "id": "TFRLqjAY4vWU",
        "outputId": "39d4a67e-82ad-4f9b-c902-8402e035a748"
      },
      "execution_count": null,
      "outputs": [
        {
          "output_type": "stream",
          "name": "stdout",
          "text": [
            "The number of students with study time greater than 5 hours and a G3 grade below 10 is: 0\n"
          ]
        }
      ]
    },
    {
      "cell_type": "markdown",
      "source": [
        "4. How many students with internet=no have a G3 grade above 12, using .query()?"
      ],
      "metadata": {
        "id": "RaH3evM3pQXi"
      }
    },
    {
      "cell_type": "code",
      "source": [
        "students_no_internet_high_g3 = df.query('internet == \"no\" and G3 > 12').shape[0]\n",
        "print(f\"The number of students with internet=no and a G3 grade above 12 is: {students_no_internet_high_g3}\")"
      ],
      "metadata": {
        "colab": {
          "base_uri": "https://localhost:8080/"
        },
        "id": "-s-WruDv44x-",
        "outputId": "3826c092-8541-44e7-b62a-ae702eed7073"
      },
      "execution_count": null,
      "outputs": [
        {
          "output_type": "stream",
          "name": "stdout",
          "text": [
            "The number of students with internet=no and a G3 grade above 12 is: 14\n"
          ]
        }
      ]
    },
    {
      "cell_type": "markdown",
      "source": [
        "5. What is the average number of absences for students with famsup = yes, using .groupby(famsup)?"
      ],
      "metadata": {
        "id": "k5NKuXmopnNI"
      }
    },
    {
      "cell_type": "code",
      "source": [
        "average_absences_famsup_yes = df.groupby('famsup')['absences'].mean()['yes']\n",
        "print(f\"The average number of absences for students with famsup = yes is: {average_absences_famsup_yes:.2f}\")"
      ],
      "metadata": {
        "colab": {
          "base_uri": "https://localhost:8080/"
        },
        "id": "z8g7fzGQ5SeE",
        "outputId": "8f4fd865-d691-4126-c118-ae5fe0094ef7"
      },
      "execution_count": null,
      "outputs": [
        {
          "output_type": "stream",
          "name": "stdout",
          "text": [
            "The average number of absences for students with famsup = yes is: 5.86\n"
          ]
        }
      ]
    },
    {
      "cell_type": "markdown",
      "source": [
        "6. How many students with Mjob = teacher have a G3 grade above 15, using .query()?"
      ],
      "metadata": {
        "id": "Ll_rhUhfp8eG"
      }
    },
    {
      "cell_type": "code",
      "source": [
        "students_teacher_mom_high_g3 = df.query('Mjob == \"teacher\" and G3 > 15').shape[0]\n",
        "print(f\"The number of students with Mjob = teacher and a G3 grade above 15 is: {students_teacher_mom_high_g3}\")"
      ],
      "metadata": {
        "colab": {
          "base_uri": "https://localhost:8080/"
        },
        "id": "_f9h8OLf5cdn",
        "outputId": "19a35c63-29e0-4e89-f1e4-f2721265cebe"
      },
      "execution_count": null,
      "outputs": [
        {
          "output_type": "stream",
          "name": "stdout",
          "text": [
            "The number of students with Mjob = teacher and a G3 grade above 15 is: 9\n"
          ]
        }
      ]
    },
    {
      "cell_type": "markdown",
      "source": [
        "7. What is the correlation between G1 and G3 grades?"
      ],
      "metadata": {
        "id": "6haaA_LNqPct"
      }
    },
    {
      "cell_type": "code",
      "source": [
        "correlation_g1_g3 = df['G1'].corr(df['G3'])\n",
        "print(f\"The correlation between G1 and G3 grades is: {correlation_g1_g3:.2f}\")"
      ],
      "metadata": {
        "colab": {
          "base_uri": "https://localhost:8080/"
        },
        "id": "TkTWX6Wp5lwy",
        "outputId": "018ceff5-6d92-402d-8250-f0d6c3040fd8"
      },
      "execution_count": null,
      "outputs": [
        {
          "output_type": "stream",
          "name": "stdout",
          "text": [
            "The correlation between G1 and G3 grades is: 0.80\n"
          ]
        }
      ]
    },
    {
      "cell_type": "markdown",
      "source": [
        "8. How many students with traveltime>2 have a G3 grade below 10, using .query()?"
      ],
      "metadata": {
        "id": "XJPiozGsqU4Q"
      }
    },
    {
      "cell_type": "code",
      "source": [
        "students_traveltime_low_g3 = df.query('traveltime > 2 and G3 < 10').shape[0]\n",
        "print(f\"The number of students with traveltime > 2 and a G3 grade below 10 is: {students_traveltime_low_g3}\")"
      ],
      "metadata": {
        "colab": {
          "base_uri": "https://localhost:8080/"
        },
        "id": "VvqwfQJb5vYQ",
        "outputId": "69c3261c-6553-44bd-8e85-55f198f92de1"
      },
      "execution_count": null,
      "outputs": [
        {
          "output_type": "stream",
          "name": "stdout",
          "text": [
            "The number of students with traveltime > 2 and a G3 grade below 10 is: 11\n"
          ]
        }
      ]
    },
    {
      "cell_type": "markdown",
      "source": [
        "9. What is the average G3 grade for students with higher = yes, using .groupby(higher)?"
      ],
      "metadata": {
        "id": "kyu-pXvfqvwQ"
      }
    },
    {
      "cell_type": "code",
      "source": [
        "average_g3_higher_yes = df.groupby('higher')['G3'].mean()['yes']\n",
        "print(f\"The average G3 grade for students with higher = yes is: {average_g3_higher_yes:.2f}\")"
      ],
      "metadata": {
        "colab": {
          "base_uri": "https://localhost:8080/"
        },
        "id": "KmuS0QSq52A0",
        "outputId": "a59020e7-a6c8-4f0b-c014-ab627f772a90"
      },
      "execution_count": null,
      "outputs": [
        {
          "output_type": "stream",
          "name": "stdout",
          "text": [
            "The average G3 grade for students with higher = yes is: 10.61\n"
          ]
        }
      ]
    },
    {
      "cell_type": "markdown",
      "source": [
        "10. How many students with Walc > 3 have a G3 grade below , using .query()?"
      ],
      "metadata": {
        "id": "xlh7ld29rCGI"
      }
    },
    {
      "cell_type": "code",
      "source": [
        "# Replace 'your_g3_threshold' with the desired G3 grade threshold\n",
        "students_walc_high_low_g3 = df.query('Walc > 3 and G3 < 10').shape[0]\n",
        "print(f\"The number of students with Walc > 3 and a G3 grade below 10 is: {students_walc_high_low_g3}\")"
      ],
      "metadata": {
        "colab": {
          "base_uri": "https://localhost:8080/"
        },
        "id": "5-rcBr7n6ZSR",
        "outputId": "9fce584b-1f11-49d6-8f9e-1046f22b8755"
      },
      "execution_count": null,
      "outputs": [
        {
          "output_type": "stream",
          "name": "stdout",
          "text": [
            "The number of students with Walc > 3 and a G3 grade below 10 is: 30\n"
          ]
        }
      ]
    },
    {
      "cell_type": "markdown",
      "source": [
        "11. What is the distribution of reasons for students with G3 > 15 using .groupby(reason)?"
      ],
      "metadata": {
        "id": "3ZfoCdw2raUf"
      }
    },
    {
      "cell_type": "code",
      "source": [
        "high_g3_students = df[df['G3'] > 15]\n",
        "reason_distribution_high_g3 = high_g3_students.groupby('reason').size().reset_index(name='count')\n",
        "print(\"Distribution of reasons for students with G3 > 15:\")\n",
        "print(reason_distribution_high_g3)"
      ],
      "metadata": {
        "colab": {
          "base_uri": "https://localhost:8080/"
        },
        "id": "jQDs7sc36qlT",
        "outputId": "8e6794e2-5274-4b62-8989-af1be31d85d7"
      },
      "execution_count": null,
      "outputs": [
        {
          "output_type": "stream",
          "name": "stdout",
          "text": [
            "Distribution of reasons for students with G3 > 15:\n",
            "       reason  count\n",
            "0      course     14\n",
            "1        home     11\n",
            "2       other      4\n",
            "3  reputation     11\n"
          ]
        }
      ]
    },
    {
      "cell_type": "markdown",
      "source": [
        "12. How many students famsize = LE3 have a G3 grade above 12, using .query()?"
      ],
      "metadata": {
        "id": "fLhHaKcQrrgW"
      }
    },
    {
      "cell_type": "code",
      "source": [
        "students_famsize_le3_high_g3 = df.query('famsize == \"LE3\" and G3 > 12').shape[0]\n",
        "print(f\"The number of students with famsize = LE3 and a G3 grade above 12 is: {students_famsize_le3_high_g3}\")"
      ],
      "metadata": {
        "colab": {
          "base_uri": "https://localhost:8080/"
        },
        "id": "-q9XjG6460nn",
        "outputId": "c3217bec-1bbe-4e6f-a11e-d421fb7b2ef2"
      },
      "execution_count": null,
      "outputs": [
        {
          "output_type": "stream",
          "name": "stdout",
          "text": [
            "The number of students with famsize = LE3 and a G3 grade above 12 is: 41\n"
          ]
        }
      ]
    },
    {
      "cell_type": "markdown",
      "source": [
        "13. What is the average famrel score for students with guardian = father, using .groupby(guardian)?"
      ],
      "metadata": {
        "id": "PF7vZPysr9cH"
      }
    },
    {
      "cell_type": "code",
      "source": [
        "average_famrel_father_guardian = df.groupby('guardian')['famrel'].mean()['father']\n",
        "print(f\"The average famrel score for students with guardian = father is: {average_famrel_father_guardian:.2f}\")"
      ],
      "metadata": {
        "colab": {
          "base_uri": "https://localhost:8080/"
        },
        "id": "81ye2DpV67T2",
        "outputId": "700e6db7-cca3-4550-aa0e-0ef7f907a0d2"
      },
      "execution_count": null,
      "outputs": [
        {
          "output_type": "stream",
          "name": "stdout",
          "text": [
            "The average famrel score for students with guardian = father is: 3.91\n"
          ]
        }
      ]
    },
    {
      "cell_type": "markdown",
      "source": [
        "14. How many students with schoolsup = yes have a G3 grade below 10, using .query()?"
      ],
      "metadata": {
        "id": "aYouTehFsQ1z"
      }
    },
    {
      "cell_type": "code",
      "source": [
        "students_schoolsup_low_g3 = df.query('schoolsup == \"yes\" and G3 < 10').shape[0]\n",
        "print(f\"The number of students with schoolsup = yes and a G3 grade below 10 is: {students_schoolsup_low_g3}\")"
      ],
      "metadata": {
        "colab": {
          "base_uri": "https://localhost:8080/"
        },
        "id": "AqYsXiNG7CSu",
        "outputId": "b6c46dcf-9a0d-4bef-c0bd-f27a488a0b87"
      },
      "execution_count": null,
      "outputs": [
        {
          "output_type": "stream",
          "name": "stdout",
          "text": [
            "The number of students with schoolsup = yes and a G3 grade below 10 is: 23\n"
          ]
        }
      ]
    },
    {
      "cell_type": "markdown",
      "source": [
        "15. What is the correlation betwen studytime and G3, using .corr()?"
      ],
      "metadata": {
        "id": "L4vBsg4OsiGO"
      }
    },
    {
      "cell_type": "code",
      "source": [
        "correlation_studytime_g3 = df['studytime'].corr(df['G3'])\n",
        "print(f\"The correlation between studytime and G3 grades is: {correlation_studytime_g3:.2f}\")"
      ],
      "metadata": {
        "colab": {
          "base_uri": "https://localhost:8080/"
        },
        "id": "ysWqAx6J7IxY",
        "outputId": "5100bde2-f26d-4817-912e-7709998227c2"
      },
      "execution_count": null,
      "outputs": [
        {
          "output_type": "stream",
          "name": "stdout",
          "text": [
            "The correlation between studytime and G3 grades is: 0.10\n"
          ]
        }
      ]
    },
    {
      "cell_type": "markdown",
      "source": [
        "16. How many students with address = R have a G3 grade above 15, using .query()?"
      ],
      "metadata": {
        "id": "P0MNZoaHsuhT"
      }
    },
    {
      "cell_type": "code",
      "source": [
        "students_rural_high_g3 = df.query('address == \"R\" and G3 > 15').shape[0]\n",
        "print(f\"The number of students with address = R and a G3 grade above 15 is: {students_rural_high_g3}\")"
      ],
      "metadata": {
        "colab": {
          "base_uri": "https://localhost:8080/"
        },
        "id": "pey1AxyK7PFm",
        "outputId": "879f8daf-b1df-410b-b837-5597d5ff5c52"
      },
      "execution_count": null,
      "outputs": [
        {
          "output_type": "stream",
          "name": "stdout",
          "text": [
            "The number of students with address = R and a G3 grade above 15 is: 7\n"
          ]
        }
      ]
    },
    {
      "cell_type": "markdown",
      "source": [
        "17. What is the average dropout score for students with G3 < 10, using .groupby() and a condition?"
      ],
      "metadata": {
        "id": "3pPUc84Os66D"
      }
    },
    {
      "cell_type": "code",
      "source": [
        "low_g3_students = df[df['G3'] < 10]\n",
        "average_failures_low_g3 = low_g3_students['failures'].mean()\n",
        "average_absences_low_g3 = low_g3_students['absences'].mean()\n",
        "\n",
        "print(f\"The average number of failures for students with G3 < 10 is: {average_failures_low_g3:.2f}\")\n",
        "print(f\"The average number of absences for students with G3 < 10 is: {average_absences_low_g3:.2f}\")"
      ],
      "metadata": {
        "colab": {
          "base_uri": "https://localhost:8080/"
        },
        "id": "6IHCIESu7VrP",
        "outputId": "40bfcc24-63a8-400f-89c4-ce1b7b10c568"
      },
      "execution_count": null,
      "outputs": [
        {
          "output_type": "stream",
          "name": "stdout",
          "text": [
            "The average number of failures for students with G3 < 10 is: 0.69\n",
            "The average number of absences for students with G3 < 10 is: 6.76\n"
          ]
        }
      ]
    },
    {
      "cell_type": "markdown",
      "source": [
        "18. How many students with paid = yes have a G3 grade above 12, using .query()?"
      ],
      "metadata": {
        "id": "q2OuJ567tLQw"
      }
    },
    {
      "cell_type": "code",
      "source": [
        "students_paid_high_g3 = df.query('paid == \"yes\" and G3 > 12').shape[0]\n",
        "print(f\"The number of students with paid = yes and a G3 grade above 12 is: {students_paid_high_g3}\")"
      ],
      "metadata": {
        "colab": {
          "base_uri": "https://localhost:8080/"
        },
        "id": "wzaup-Uh7eEc",
        "outputId": "d4c2f04f-3904-49fd-dda6-db149d3a5f64"
      },
      "execution_count": null,
      "outputs": [
        {
          "output_type": "stream",
          "name": "stdout",
          "text": [
            "The number of students with paid = yes and a G3 grade above 12 is: 62\n"
          ]
        }
      ]
    },
    {
      "cell_type": "markdown",
      "source": [
        "19. What is the distribution of health scores for students with G3 > 15?"
      ],
      "metadata": {
        "id": "692ZU69WtbSN"
      }
    },
    {
      "cell_type": "code",
      "source": [
        "high_g3_students = df[df['G3'] > 15]\n",
        "health_distribution_high_g3 = high_g3_students['health'].value_counts().reset_index(name='count')\n",
        "health_distribution_high_g3.columns = ['health_score', 'count']\n",
        "print(\"Distribution of health scores for students with G3 > 15:\")\n",
        "print(health_distribution_high_g3)"
      ],
      "metadata": {
        "colab": {
          "base_uri": "https://localhost:8080/"
        },
        "id": "299xQ18X7kv9",
        "outputId": "9613ffc9-f64e-43c7-cc6c-81d926b093f3"
      },
      "execution_count": null,
      "outputs": [
        {
          "output_type": "stream",
          "name": "stdout",
          "text": [
            "Distribution of health scores for students with G3 > 15:\n",
            "   health_score  count\n",
            "0             5     12\n",
            "1             4      8\n",
            "2             1      7\n",
            "3             3      7\n",
            "4             2      6\n"
          ]
        }
      ]
    },
    {
      "cell_type": "markdown",
      "source": [
        "EXERCISE - Basic Data Saving"
      ],
      "metadata": {
        "id": "_3PZ3s1Ytlfm"
      }
    },
    {
      "cell_type": "markdown",
      "source": [
        "1. How many rows are saved when exporting the data set to a CSV file using DataFrame.to_csv()?"
      ],
      "metadata": {
        "id": "NCHoyh_St2Zu"
      }
    },
    {
      "cell_type": "code",
      "source": [
        "# Save the DataFrame to a temporary CSV file\n",
        "df.to_csv('temp_student_data.csv')\n",
        "\n",
        "# The number of rows saved to the CSV will be the same as the number of rows in the DataFrame\n",
        "rows_saved_csv = df.shape[0]\n",
        "print(f\"The number of rows saved when exporting to a CSV file is: {rows_saved_csv}\")"
      ],
      "metadata": {
        "colab": {
          "base_uri": "https://localhost:8080/"
        },
        "id": "VCyYlgKW7t89",
        "outputId": "9b270fe8-8b6a-4924-e892-65fd1f6700dd"
      },
      "execution_count": null,
      "outputs": [
        {
          "output_type": "stream",
          "name": "stdout",
          "text": [
            "The number of rows saved when exporting to a CSV file is: 395\n"
          ]
        }
      ]
    },
    {
      "cell_type": "markdown",
      "source": [
        "2. What is the file size of the dataset when saved as a CSV without the index, using DataFrame.to_csv(index=False)?"
      ],
      "metadata": {
        "id": "ogGLG5M3uJ66"
      }
    },
    {
      "cell_type": "code",
      "source": [
        "import os\n",
        "\n",
        "# Save the DataFrame to a temporary CSV file without the index\n",
        "df.to_csv('temp_student_data_no_index.csv', index=False)\n",
        "\n",
        "# Get the file size\n",
        "file_size_bytes = os.path.getsize('temp_student_data_no_index.csv')\n",
        "print(f\"The file size of the dataset when saved as CSV without the index is: {file_size_bytes} bytes\")"
      ],
      "metadata": {
        "colab": {
          "base_uri": "https://localhost:8080/"
        },
        "id": "puNJgcNW7xny",
        "outputId": "92f8ef44-4317-428e-af0c-20dca24e7801"
      },
      "execution_count": null,
      "outputs": [
        {
          "output_type": "stream",
          "name": "stdout",
          "text": [
            "The file size of the dataset when saved as CSV without the index is: 41983 bytes\n"
          ]
        }
      ]
    },
    {
      "cell_type": "markdown",
      "source": [
        "3. How many columns are included when saving only school, sex, G1, G2, and G3 to an Excel file?"
      ],
      "metadata": {
        "id": "LcLe4X61ubkw"
      }
    },
    {
      "cell_type": "code",
      "source": [
        "selected_columns = ['school', 'sex', 'G1', 'G2', 'G3']\n",
        "num_columns_saved = df[selected_columns].shape[1]\n",
        "print(f\"The number of columns included when saving to an Excel file is: {num_columns_saved}\")"
      ],
      "metadata": {
        "colab": {
          "base_uri": "https://localhost:8080/"
        },
        "id": "hK_1Dfpg7-r5",
        "outputId": "da16ac29-6d9a-4310-90ef-c595c0e7875c"
      },
      "execution_count": null,
      "outputs": [
        {
          "output_type": "stream",
          "name": "stdout",
          "text": [
            "The number of columns included when saving to an Excel file is: 5\n"
          ]
        }
      ]
    },
    {
      "cell_type": "markdown",
      "source": [
        "4. What is the structure of the dataset when saved to JSON with orient=records, using DataFrame.to_csv()?"
      ],
      "metadata": {
        "id": "VcN_qUbyuqe7"
      }
    },
    {
      "cell_type": "code",
      "source": [
        "# Select a small subset of the data to demonstrate the JSON structure\n",
        "subset_df = df[['school', 'sex', 'age', 'G3']].head(3)\n",
        "\n",
        "# Convert the subset DataFrame to JSON with orient='records'\n",
        "json_output = subset_df.to_json(orient='records', indent=4)\n",
        "\n",
        "print(\"Structure of the dataset when saved to JSON with orient='records':\")\n",
        "print(json_output)"
      ],
      "metadata": {
        "colab": {
          "base_uri": "https://localhost:8080/"
        },
        "id": "Xm7MV4FI8GBA",
        "outputId": "944b706d-d342-45d7-f8e3-44cf1c0ad473"
      },
      "execution_count": null,
      "outputs": [
        {
          "output_type": "stream",
          "name": "stdout",
          "text": [
            "Structure of the dataset when saved to JSON with orient='records':\n",
            "[\n",
            "    {\n",
            "        \"school\":\"GP\",\n",
            "        \"sex\":\"F\",\n",
            "        \"age\":18,\n",
            "        \"G3\":6\n",
            "    },\n",
            "    {\n",
            "        \"school\":\"GP\",\n",
            "        \"sex\":\"F\",\n",
            "        \"age\":17,\n",
            "        \"G3\":6\n",
            "    },\n",
            "    {\n",
            "        \"school\":\"GP\",\n",
            "        \"sex\":\"F\",\n",
            "        \"age\":15,\n",
            "        \"G3\":10\n",
            "    }\n",
            "]\n"
          ]
        }
      ]
    },
    {
      "cell_type": "markdown",
      "source": [
        "5. What is the effect of using if_exists=replace when saving the data set to an existing Excel sheet?"
      ],
      "metadata": {
        "id": "Llh1PUQwu88o"
      }
    },
    {
      "cell_type": "markdown",
      "metadata": {
        "id": "7f5e1805"
      },
      "source": [
        "Using `if_exists='replace'` when saving a DataFrame to an existing Excel sheet will overwrite the entire content of that sheet with the data from your DataFrame."
      ]
    },
    {
      "cell_type": "markdown",
      "source": [
        "6. How would you verify that the sex column is correctly saved in a CSV file after using DataFrame.to_csv()?"
      ],
      "metadata": {
        "id": "Ys2IE-2fvMrJ"
      }
    },
    {
      "cell_type": "code",
      "source": [
        "# Assuming the DataFrame was saved to 'temp_student_data.csv' previously\n",
        "# Read the CSV file back into a new DataFrame\n",
        "loaded_df = pd.read_csv('temp_student_data.csv')\n",
        "\n",
        "# Check the first few rows of the 'sex' column in the loaded DataFrame\n",
        "print(\"First 5 values of the 'sex' column in the loaded CSV:\")\n",
        "print(loaded_df['sex'].head())\n",
        "\n",
        "# You can also check the data type\n",
        "print(\"\\nData type of the 'sex' column in the loaded CSV:\")\n",
        "print(loaded_df['sex'].dtype)\n",
        "\n",
        "# And compare value counts if needed\n",
        "print(\"\\nValue counts of the 'sex' column in the loaded CSV:\")\n",
        "print(loaded_df['sex'].value_counts())"
      ],
      "metadata": {
        "colab": {
          "base_uri": "https://localhost:8080/"
        },
        "id": "rvRlr9UQ8pyC",
        "outputId": "6e493dcc-d5de-4aa7-95e0-510a46c12b4e"
      },
      "execution_count": null,
      "outputs": [
        {
          "output_type": "stream",
          "name": "stdout",
          "text": [
            "First 5 values of the 'sex' column in the loaded CSV:\n",
            "0    F\n",
            "1    F\n",
            "2    F\n",
            "3    F\n",
            "4    F\n",
            "Name: sex, dtype: object\n",
            "\n",
            "Data type of the 'sex' column in the loaded CSV:\n",
            "object\n",
            "\n",
            "Value counts of the 'sex' column in the loaded CSV:\n",
            "sex\n",
            "F    208\n",
            "M    187\n",
            "Name: count, dtype: int64\n"
          ]
        }
      ]
    },
    {
      "cell_type": "markdown",
      "source": [
        "7. How many records are saved when exporting students with school = GP to a JSON file?"
      ],
      "metadata": {
        "id": "UlYLI_mEvdC2"
      }
    },
    {
      "cell_type": "code",
      "source": [
        "gp_students = df[df['school'] == 'GP']\n",
        "num_records_saved_json = gp_students.shape[0]\n",
        "print(f\"The number of records saved when exporting students with school = GP to a JSON file is: {num_records_saved_json}\")"
      ],
      "metadata": {
        "colab": {
          "base_uri": "https://localhost:8080/"
        },
        "id": "UlX8amWY80rC",
        "outputId": "5f8c4eb1-2273-442e-bc9c-08e184e7196e"
      },
      "execution_count": null,
      "outputs": [
        {
          "output_type": "stream",
          "name": "stdout",
          "text": [
            "The number of records saved when exporting students with school = GP to a JSON file is: 349\n"
          ]
        }
      ]
    },
    {
      "cell_type": "markdown",
      "source": [
        "8. How would you confirm that the G3 column is preserved accurately when saving to an Excel?"
      ],
      "metadata": {
        "id": "Id63Pyaqvqmq"
      }
    },
    {
      "cell_type": "code",
      "source": [
        "# Save the DataFrame to an Excel file named 'temp_student_data.xlsx'\n",
        "df.to_excel('temp_student_data.xlsx', index=False)\n",
        "\n",
        "# Read the Excel file back into a new DataFrame\n",
        "loaded_excel_df = pd.read_excel('temp_student_data.xlsx')\n",
        "\n",
        "# Check the first few rows of the 'G3' column in the loaded DataFrame\n",
        "print(\"First 5 values of the 'G3' column in the loaded Excel file:\")\n",
        "print(loaded_excel_df['G3'].head())\n",
        "\n",
        "# You can also check the data type\n",
        "print(\"\\nData type of the 'G3' column in the loaded Excel file:\")\n",
        "print(loaded_excel_df['G3'].dtype)\n",
        "\n",
        "# And compare descriptive statistics if needed\n",
        "print(\"\\nDescriptive statistics of the 'G3' column in the loaded Excel file:\")\n",
        "print(loaded_excel_df['G3'].describe())\n",
        "\n",
        "# You could also compare the original 'G3' column with the loaded one directly\n",
        "# print(\"\\nAre the original and loaded 'G3' columns equal?\")\n",
        "# print(df['G3'].equals(loaded_excel_df['G3']))"
      ],
      "metadata": {
        "colab": {
          "base_uri": "https://localhost:8080/"
        },
        "id": "SCTohDEk876E",
        "outputId": "6a7957cb-a06a-4152-f181-fa69d3cfe8a8"
      },
      "execution_count": null,
      "outputs": [
        {
          "output_type": "stream",
          "name": "stdout",
          "text": [
            "First 5 values of the 'G3' column in the loaded Excel file:\n",
            "0     6\n",
            "1     6\n",
            "2    10\n",
            "3    15\n",
            "4    10\n",
            "Name: G3, dtype: int64\n",
            "\n",
            "Data type of the 'G3' column in the loaded Excel file:\n",
            "int64\n",
            "\n",
            "Descriptive statistics of the 'G3' column in the loaded Excel file:\n",
            "count    395.000000\n",
            "mean      10.415190\n",
            "std        4.581443\n",
            "min        0.000000\n",
            "25%        8.000000\n",
            "50%       11.000000\n",
            "75%       14.000000\n",
            "max       20.000000\n",
            "Name: G3, dtype: float64\n"
          ]
        }
      ]
    }
  ]
}